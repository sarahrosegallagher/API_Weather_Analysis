{
 "cells": [
  {
   "cell_type": "code",
   "execution_count": 1,
   "metadata": {},
   "outputs": [],
   "source": [
    "import pandas as pd\n",
    "\n",
    "import gmaps\n",
    "\n",
    "import requests \n",
    "\n",
    "from config import gkey\n"
   ]
  },
  {
   "cell_type": "code",
   "execution_count": 2,
   "metadata": {},
   "outputs": [],
   "source": [
    "file_to_load = \"weather_data/cities.csv\""
   ]
  },
  {
   "cell_type": "code",
   "execution_count": 3,
   "metadata": {},
   "outputs": [
    {
     "data": {
      "text/html": [
       "<div>\n",
       "<style scoped>\n",
       "    .dataframe tbody tr th:only-of-type {\n",
       "        vertical-align: middle;\n",
       "    }\n",
       "\n",
       "    .dataframe tbody tr th {\n",
       "        vertical-align: top;\n",
       "    }\n",
       "\n",
       "    .dataframe thead th {\n",
       "        text-align: right;\n",
       "    }\n",
       "</style>\n",
       "<table border=\"1\" class=\"dataframe\">\n",
       "  <thead>\n",
       "    <tr style=\"text-align: right;\">\n",
       "      <th></th>\n",
       "      <th>City_ID</th>\n",
       "      <th>City</th>\n",
       "      <th>Country</th>\n",
       "      <th>Date</th>\n",
       "      <th>Lat</th>\n",
       "      <th>Lng</th>\n",
       "      <th>Max Temp</th>\n",
       "      <th>Humidity</th>\n",
       "      <th>Cloudiness</th>\n",
       "      <th>Wind Speed</th>\n",
       "    </tr>\n",
       "  </thead>\n",
       "  <tbody>\n",
       "    <tr>\n",
       "      <th>0</th>\n",
       "      <td>0</td>\n",
       "      <td>Busselton</td>\n",
       "      <td>AU</td>\n",
       "      <td>2022-03-23 20:34:14</td>\n",
       "      <td>-33.6500</td>\n",
       "      <td>115.3333</td>\n",
       "      <td>55.33</td>\n",
       "      <td>82</td>\n",
       "      <td>0</td>\n",
       "      <td>12.37</td>\n",
       "    </tr>\n",
       "    <tr>\n",
       "      <th>1</th>\n",
       "      <td>1</td>\n",
       "      <td>Ambon</td>\n",
       "      <td>ID</td>\n",
       "      <td>2022-03-23 20:34:14</td>\n",
       "      <td>-3.6954</td>\n",
       "      <td>128.1814</td>\n",
       "      <td>79.36</td>\n",
       "      <td>81</td>\n",
       "      <td>100</td>\n",
       "      <td>12.73</td>\n",
       "    </tr>\n",
       "    <tr>\n",
       "      <th>2</th>\n",
       "      <td>2</td>\n",
       "      <td>Nipawin</td>\n",
       "      <td>CA</td>\n",
       "      <td>2022-03-23 20:34:15</td>\n",
       "      <td>53.3668</td>\n",
       "      <td>-104.0009</td>\n",
       "      <td>37.44</td>\n",
       "      <td>75</td>\n",
       "      <td>0</td>\n",
       "      <td>6.91</td>\n",
       "    </tr>\n",
       "    <tr>\n",
       "      <th>3</th>\n",
       "      <td>3</td>\n",
       "      <td>Saldanha</td>\n",
       "      <td>ZA</td>\n",
       "      <td>2022-03-23 20:34:15</td>\n",
       "      <td>-33.0117</td>\n",
       "      <td>17.9442</td>\n",
       "      <td>68.05</td>\n",
       "      <td>88</td>\n",
       "      <td>31</td>\n",
       "      <td>18.61</td>\n",
       "    </tr>\n",
       "    <tr>\n",
       "      <th>4</th>\n",
       "      <td>4</td>\n",
       "      <td>Albany</td>\n",
       "      <td>US</td>\n",
       "      <td>2022-03-23 20:30:35</td>\n",
       "      <td>42.6001</td>\n",
       "      <td>-73.9662</td>\n",
       "      <td>46.02</td>\n",
       "      <td>39</td>\n",
       "      <td>100</td>\n",
       "      <td>1.99</td>\n",
       "    </tr>\n",
       "    <tr>\n",
       "      <th>...</th>\n",
       "      <td>...</td>\n",
       "      <td>...</td>\n",
       "      <td>...</td>\n",
       "      <td>...</td>\n",
       "      <td>...</td>\n",
       "      <td>...</td>\n",
       "      <td>...</td>\n",
       "      <td>...</td>\n",
       "      <td>...</td>\n",
       "      <td>...</td>\n",
       "    </tr>\n",
       "    <tr>\n",
       "      <th>586</th>\n",
       "      <td>586</td>\n",
       "      <td>Pochutla</td>\n",
       "      <td>MX</td>\n",
       "      <td>2022-03-23 20:50:19</td>\n",
       "      <td>15.7432</td>\n",
       "      <td>-96.4661</td>\n",
       "      <td>86.83</td>\n",
       "      <td>43</td>\n",
       "      <td>13</td>\n",
       "      <td>9.10</td>\n",
       "    </tr>\n",
       "    <tr>\n",
       "      <th>587</th>\n",
       "      <td>587</td>\n",
       "      <td>Oyama</td>\n",
       "      <td>JP</td>\n",
       "      <td>2022-03-23 20:50:20</td>\n",
       "      <td>36.3000</td>\n",
       "      <td>139.8000</td>\n",
       "      <td>42.58</td>\n",
       "      <td>72</td>\n",
       "      <td>81</td>\n",
       "      <td>4.74</td>\n",
       "    </tr>\n",
       "    <tr>\n",
       "      <th>588</th>\n",
       "      <td>588</td>\n",
       "      <td>Inhambane</td>\n",
       "      <td>MZ</td>\n",
       "      <td>2022-03-23 20:50:20</td>\n",
       "      <td>-23.8650</td>\n",
       "      <td>35.3833</td>\n",
       "      <td>73.71</td>\n",
       "      <td>87</td>\n",
       "      <td>0</td>\n",
       "      <td>5.28</td>\n",
       "    </tr>\n",
       "    <tr>\n",
       "      <th>589</th>\n",
       "      <td>589</td>\n",
       "      <td>Medina Del Campo</td>\n",
       "      <td>ES</td>\n",
       "      <td>2022-03-23 20:50:21</td>\n",
       "      <td>41.3124</td>\n",
       "      <td>-4.9141</td>\n",
       "      <td>51.76</td>\n",
       "      <td>73</td>\n",
       "      <td>92</td>\n",
       "      <td>10.65</td>\n",
       "    </tr>\n",
       "    <tr>\n",
       "      <th>590</th>\n",
       "      <td>590</td>\n",
       "      <td>Flin Flon</td>\n",
       "      <td>CA</td>\n",
       "      <td>2022-03-23 20:50:21</td>\n",
       "      <td>54.7682</td>\n",
       "      <td>-101.8650</td>\n",
       "      <td>38.50</td>\n",
       "      <td>94</td>\n",
       "      <td>100</td>\n",
       "      <td>9.75</td>\n",
       "    </tr>\n",
       "  </tbody>\n",
       "</table>\n",
       "<p>591 rows × 10 columns</p>\n",
       "</div>"
      ],
      "text/plain": [
       "     City_ID              City Country                 Date      Lat  \\\n",
       "0          0         Busselton      AU  2022-03-23 20:34:14 -33.6500   \n",
       "1          1             Ambon      ID  2022-03-23 20:34:14  -3.6954   \n",
       "2          2           Nipawin      CA  2022-03-23 20:34:15  53.3668   \n",
       "3          3          Saldanha      ZA  2022-03-23 20:34:15 -33.0117   \n",
       "4          4            Albany      US  2022-03-23 20:30:35  42.6001   \n",
       "..       ...               ...     ...                  ...      ...   \n",
       "586      586          Pochutla      MX  2022-03-23 20:50:19  15.7432   \n",
       "587      587             Oyama      JP  2022-03-23 20:50:20  36.3000   \n",
       "588      588         Inhambane      MZ  2022-03-23 20:50:20 -23.8650   \n",
       "589      589  Medina Del Campo      ES  2022-03-23 20:50:21  41.3124   \n",
       "590      590         Flin Flon      CA  2022-03-23 20:50:21  54.7682   \n",
       "\n",
       "          Lng  Max Temp  Humidity  Cloudiness  Wind Speed  \n",
       "0    115.3333     55.33        82           0       12.37  \n",
       "1    128.1814     79.36        81         100       12.73  \n",
       "2   -104.0009     37.44        75           0        6.91  \n",
       "3     17.9442     68.05        88          31       18.61  \n",
       "4    -73.9662     46.02        39         100        1.99  \n",
       "..        ...       ...       ...         ...         ...  \n",
       "586  -96.4661     86.83        43          13        9.10  \n",
       "587  139.8000     42.58        72          81        4.74  \n",
       "588   35.3833     73.71        87           0        5.28  \n",
       "589   -4.9141     51.76        73          92       10.65  \n",
       "590 -101.8650     38.50        94         100        9.75  \n",
       "\n",
       "[591 rows x 10 columns]"
      ]
     },
     "execution_count": 3,
     "metadata": {},
     "output_type": "execute_result"
    }
   ],
   "source": [
    "cities_csv = pd.read_csv(file_to_load)\n",
    "\n",
    "cities_df = pd.DataFrame(cities_csv)\n",
    "\n",
    "cities_df"
   ]
  },
  {
   "cell_type": "code",
   "execution_count": 4,
   "metadata": {},
   "outputs": [],
   "source": [
    "#configure gmaps to use gkey \n",
    "gmaps.configure(api_key=gkey)"
   ]
  },
  {
   "cell_type": "code",
   "execution_count": 5,
   "metadata": {},
   "outputs": [],
   "source": [
    "#for loop to select only pos temps\n",
    "\n",
    "# max_temp = cities_df[\"Max Temp\"]\n",
    "\n",
    "# temps = []\n",
    "\n",
    "# for temp in max_temp:\n",
    "#     temps.append(max(temp,0))\n",
    "\n",
    "#replaced with list comp in cell below "
   ]
  },
  {
   "cell_type": "code",
   "execution_count": 7,
   "metadata": {},
   "outputs": [
    {
     "data": {
      "application/vnd.jupyter.widget-view+json": {
       "model_id": "9f8e0bd9c45f41a28b9461d1fc4660de",
       "version_major": 2,
       "version_minor": 0
      },
      "text/plain": [
       "Figure(layout=FigureLayout(height='420px'))"
      ]
     },
     "metadata": {},
     "output_type": "display_data"
    }
   ],
   "source": [
    "# Max Temp Heat Map \n",
    "# data to variables \n",
    "locations = cities_df[[\"Lat\", \"Lng\"]]\n",
    "max_temp = cities_df[\"Max Temp\"]\n",
    "\n",
    "#figure variable (plus center and zoom)\n",
    "fig = gmaps.figure(center=(30.0, 31.0), zoom_level =1.5)\n",
    "\n",
    "#add heatlayer w variables (plus list comprehension, intensity, point radius)\n",
    "heatmap_layer = gmaps.heatmap_layer(locations, weights=[max(temp, 0) for temp in max_temp], dissipating=False, max_intensity=300, point_radius=4)\n",
    "fig.add_layer(heatmap_layer)\n",
    "\n",
    "#call fig \n",
    "fig"
   ]
  },
  {
   "cell_type": "code",
   "execution_count": 8,
   "metadata": {},
   "outputs": [
    {
     "data": {
      "application/vnd.jupyter.widget-view+json": {
       "model_id": "e10b37a81c32413e87f7533e199e2614",
       "version_major": 2,
       "version_minor": 0
      },
      "text/plain": [
       "Figure(layout=FigureLayout(height='420px'))"
      ]
     },
     "metadata": {},
     "output_type": "display_data"
    }
   ],
   "source": [
    "# Humidity Heat Map \n",
    "# data to variables \n",
    "locations = cities_df[[\"Lat\", \"Lng\"]]\n",
    "humidity = cities_df[\"Humidity\"]\n",
    "\n",
    "#figure variable (plus center and zoom)\n",
    "fig = gmaps.figure(center=(30.0, 31.0), zoom_level =1.5)\n",
    "\n",
    "#add heatlayer w variables (plus list comprehension, intensity, point radius)\n",
    "heatmap_layer = gmaps.heatmap_layer(locations, weights= humidity, dissipating=False, max_intensity=300, point_radius=4)\n",
    "fig.add_layer(heatmap_layer)\n",
    "\n",
    "#call fig \n",
    "fig"
   ]
  },
  {
   "cell_type": "code",
   "execution_count": 10,
   "metadata": {},
   "outputs": [
    {
     "data": {
      "application/vnd.jupyter.widget-view+json": {
       "model_id": "5632011b52674720b0a08ec90c0eed46",
       "version_major": 2,
       "version_minor": 0
      },
      "text/plain": [
       "Figure(layout=FigureLayout(height='420px'))"
      ]
     },
     "metadata": {},
     "output_type": "display_data"
    }
   ],
   "source": [
    "# cloudiness Heat Map \n",
    "# data to variables \n",
    "locations = cities_df[[\"Lat\", \"Lng\"]]\n",
    "cloudiness = cities_df[\"Cloudiness\"]\n",
    "\n",
    "#figure variable (plus center and zoom)\n",
    "fig = gmaps.figure(center=(30.0, 31.0), zoom_level =1.5)\n",
    "\n",
    "#add heatlayer w variables (plus list comprehension, intensity, point radius)\n",
    "heatmap_layer = gmaps.heatmap_layer(locations, weights= cloudiness, dissipating=False, max_intensity=300, point_radius=4)\n",
    "fig.add_layer(heatmap_layer)\n",
    "\n",
    "#call fig \n",
    "fig"
   ]
  },
  {
   "cell_type": "code",
   "execution_count": 12,
   "metadata": {},
   "outputs": [
    {
     "data": {
      "application/vnd.jupyter.widget-view+json": {
       "model_id": "fd072472d1784198a7ae52e5df74b45f",
       "version_major": 2,
       "version_minor": 0
      },
      "text/plain": [
       "Figure(layout=FigureLayout(height='420px'))"
      ]
     },
     "metadata": {},
     "output_type": "display_data"
    }
   ],
   "source": [
    "# wind speed Heat Map \n",
    "# data to variables \n",
    "locations = cities_df[[\"Lat\", \"Lng\"]]\n",
    "wind_speed = cities_df[\"Wind Speed\"]\n",
    "\n",
    "#figure variable (plus center and zoom)\n",
    "fig = gmaps.figure(center=(30.0, 31.0), zoom_level =1.5)\n",
    "\n",
    "#add heatlayer w variables (plus list comprehension, intensity, point radius)\n",
    "heatmap_layer = gmaps.heatmap_layer(locations, weights= wind_speed, dissipating=False, max_intensity=300, point_radius=4)\n",
    "fig.add_layer(heatmap_layer)\n",
    "\n",
    "#call fig \n",
    "fig"
   ]
  },
  {
   "cell_type": "code",
   "execution_count": null,
   "metadata": {},
   "outputs": [],
   "source": []
  }
 ],
 "metadata": {
  "kernelspec": {
   "display_name": "PythonData",
   "language": "python",
   "name": "pythondata"
  },
  "language_info": {
   "codemirror_mode": {
    "name": "ipython",
    "version": 3
   },
   "file_extension": ".py",
   "mimetype": "text/x-python",
   "name": "python",
   "nbconvert_exporter": "python",
   "pygments_lexer": "ipython3",
   "version": "3.7.11"
  },
  "orig_nbformat": 4
 },
 "nbformat": 4,
 "nbformat_minor": 2
}
