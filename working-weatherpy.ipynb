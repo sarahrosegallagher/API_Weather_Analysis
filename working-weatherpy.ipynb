{
 "cells": [
  {
   "cell_type": "code",
   "execution_count": 1,
   "metadata": {},
   "outputs": [],
   "source": [
    "#import dependencies\n",
    "\n",
    "import pandas as pd\n",
    "\n",
    "import matplotlib.pyplot as plt\n",
    "\n",
    "import numpy as np\n",
    "\n",
    "import random\n",
    "\n",
    "from citipy import citipy\n",
    "\n",
    "import sys\n",
    "sys.path.append(\"..\")\n",
    "\n",
    "from config import weather_api_key\n",
    "\n",
    "import time\n",
    "from datetime import datetime\n",
    "\n",
    "import requests"
   ]
  },
  {
   "cell_type": "code",
   "execution_count": null,
   "metadata": {},
   "outputs": [],
   "source": [
    "#create set of lat and long, combine w zip\n",
    "\n",
    "lats = np.random.uniform(-90, 90, size = 1500)\n",
    "\n",
    "lngs = np.random.uniform(-180, 180, size= 1500)\n",
    "\n",
    "lat_lngs = zip(lats, lngs)\n",
    "\n",
    "lat_lngs"
   ]
  },
  {
   "cell_type": "code",
   "execution_count": null,
   "metadata": {},
   "outputs": [],
   "source": [
    "#add lat and long to list, then can iterate thru list \n",
    "\n",
    "coordinates = list(lat_lngs)"
   ]
  },
  {
   "cell_type": "code",
   "execution_count": null,
   "metadata": {},
   "outputs": [],
   "source": [
    "#create list to hold cities\n",
    "\n",
    "cities = []\n",
    "\n",
    "#identify nearest city for each lat and long combination\n",
    "\n",
    "for coordinate in coordinates:\n",
    "        city = citipy.nearest_city(coordinate[0], coordinate[1]).city_name\n",
    "\n",
    "        #if city is unique, append to list\n",
    "        if city not in cities:\n",
    "                cities.append(city)\n",
    "\n",
    "#print the city count to confirm sufficient count\n",
    "len(cities)"
   ]
  },
  {
   "cell_type": "code",
   "execution_count": null,
   "metadata": {},
   "outputs": [],
   "source": [
    "url = (f\"http://api.openweathermap.org/data/2.5/weather?units=Imperial&appid={weather_api_key}\")"
   ]
  },
  {
   "cell_type": "code",
   "execution_count": null,
   "metadata": {},
   "outputs": [],
   "source": [
    "#empty list for weather data \n",
    "city_data = []\n",
    "\n",
    "# print beginning of logging\n",
    "print(\"Beggining Data Retrieval        \")\n",
    "print(\"--------------------------------\")\n",
    "\n",
    "#create counters\n",
    "record_count = 1\n",
    "set_count = 1\n",
    "\n",
    "#loop through cities in our list\n",
    "for i, city in enumerate(cities):\n",
    "\n",
    "    #group cities in sets of 50 for logging (plus sleep60 to prevent timeout err)\n",
    "    if (i % 50 == 0 and i >=50):\n",
    "        set_count +=1\n",
    "        record_count = 1\n",
    "        time.sleep(60)\n",
    "    \n",
    "    #create endpoint url with each city (concat with replace fxn, repl space w plus)\n",
    "    city_url = url +\"&q=\" + city.replace(\" \",\"+\")\n",
    "\n",
    "    #log url, record, and set numbers/city\n",
    "    print(f\"Processing record {record_count} of Set {set_count} | {city}\")\n",
    "    #add 1 to record count\n",
    "    record_count +=1 \n",
    "\n",
    "#run api requests for each city \n",
    "    try:\n",
    "        # Parse the JSON and retrieve data.\n",
    "        city_weather = requests.get(city_url).json()\n",
    "\n",
    "        # Parse out the needed data.\n",
    "        city_lat = city_weather[\"coord\"][\"lat\"]\n",
    "        city_lng = city_weather[\"coord\"][\"lon\"]\n",
    "        city_max_temp = city_weather[\"main\"][\"temp_max\"]\n",
    "        city_humidity = city_weather[\"main\"][\"humidity\"]\n",
    "        city_clouds = city_weather[\"clouds\"][\"all\"]\n",
    "        city_wind = city_weather[\"wind\"][\"speed\"]\n",
    "        city_country = city_weather[\"sys\"][\"country\"]\n",
    "\n",
    "        # Convert the date to ISO standard.\n",
    "        city_date = datetime.utcfromtimestamp(city_weather[\"dt\"]).strftime('%Y-%m-%d %H:%M:%S')\n",
    "\n",
    "\n",
    "        # Append the city information into city_data list. dict for each city where key value pairs are from weather parsed data \n",
    "        city_data.append({\"City\": city.title(),\n",
    "                            \"Lat\": city_lat,\n",
    "                            \"Lng\": city_lng,\n",
    "                            \"Max Temp\": city_max_temp,\n",
    "                            \"Humidity\": city_humidity,\n",
    "                            \"Cloudiness\": city_clouds,\n",
    "                            \"Wind Speed\": city_wind,\n",
    "                            \"Country\": city_country,\n",
    "                            \"Date\": city_date})\n",
    "    \n",
    "    #in line w try \n",
    "    except:\n",
    "        print (\"City not found. Skipping...\")\n",
    "        pass\n",
    "\n",
    "#Indicate Data Loading is complete (flush w margin)\n",
    "\n",
    "print(\"--------------------------------\")\n",
    "print(\"Data Retrieval Complete         \")\n",
    "print(\"--------------------------------\")"
   ]
  },
  {
   "cell_type": "code",
   "execution_count": null,
   "metadata": {},
   "outputs": [],
   "source": [
    "#convert array of dicts into dataframe\n",
    "\n",
    "city_data_df = pd.DataFrame(city_data)\n",
    "\n",
    "city_data_df.head(10)\n",
    "\n",
    "city_data.describe()"
   ]
  },
  {
   "cell_type": "code",
   "execution_count": null,
   "metadata": {},
   "outputs": [],
   "source": [
    "#reorder columns\n",
    "\n",
    "new_column_order = [\"City\", \"Country\", \"Date\", \"Lat\", \"Lng\", \"Max Temp\", \"Humidity\", \"Cloudiness\", \"Wind Speed\"]\n",
    "\n",
    "city_data_clean_df = city_data_df[new_column_order]\n",
    "\n",
    "city_data_clean_df"
   ]
  },
  {
   "cell_type": "code",
   "execution_count": null,
   "metadata": {},
   "outputs": [],
   "source": [
    "#create output file\n",
    "\n",
    "output_data_file = \"weather_data/cities.csv\"\n",
    "\n",
    "#export df into csv\n",
    "city_data_clean_df.to_csv(output_data_file, index_label=\"City_ID\")"
   ]
  },
  {
   "cell_type": "code",
   "execution_count": null,
   "metadata": {},
   "outputs": [],
   "source": []
  }
 ],
 "metadata": {
  "kernelspec": {
   "display_name": "PythonData",
   "language": "python",
   "name": "pythondata"
  },
  "language_info": {
   "codemirror_mode": {
    "name": "ipython",
    "version": 3
   },
   "file_extension": ".py",
   "mimetype": "text/x-python",
   "name": "python",
   "nbconvert_exporter": "python",
   "pygments_lexer": "ipython3",
   "version": "3.7.11"
  },
  "orig_nbformat": 4
 },
 "nbformat": 4,
 "nbformat_minor": 2
}
